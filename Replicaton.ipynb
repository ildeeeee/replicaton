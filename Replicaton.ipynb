{
  "nbformat": 4,
  "nbformat_minor": 0,
  "metadata": {
    "colab": {
      "name": "Replicaton.ipynb",
      "provenance": [],
      "collapsed_sections": [],
      "toc_visible": true
    },
    "kernelspec": {
      "name": "python3",
      "display_name": "Python 3"
    }
  },
  "cells": [
    {
      "cell_type": "code",
      "metadata": {
        "id": "Qr2HrJwe2oJa",
        "outputId": "35c6884b-fb91-41f2-cd5c-78ade25b8d51",
        "colab": {
          "base_uri": "https://localhost:8080/",
          "height": 1000
        }
      },
      "source": [
        "# Import files from the Replicaton GitHub\n",
        "\n",
        "  # README of PR2017Replicaton:\n",
        "! wget https://raw.githubusercontent.com/areyesq89/PR2017replicaton/master/README.md\n",
        "  \n",
        "  # Main Analysis Template R Markdown:\n",
        "\n",
        "! wget https://raw.githubusercontent.com/areyesq89/PR2017replicaton/master/analysis_template.Rmd\n",
        "\n",
        "  # Datasets:\n",
        "\n",
        "! wget https://raw.githubusercontent.com/areyesq89/PR2017replicaton/master/rawPharmacoData.csv\n",
        "! wget https://raw.githubusercontent.com/areyesq89/PR2017replicaton/master/summarizedPharmacoData.csv\n",
        "\n",
        "  # Tutorials:\n",
        "\n",
        "! wget https://raw.githubusercontent.com/areyesq89/PR2017replicaton/master/R_basics.Rmd\n",
        "! wget https://raw.githubusercontent.com/areyesq89/PR2017replicaton/master/exploration.Rmd\n",
        "! wget https://raw.githubusercontent.com/areyesq89/PR2017replicaton/master/pharmaco_correlation.Rmd\n",
        "! wget https://raw.githubusercontent.com/areyesq89/PR2017replicaton/master/targeted_therapies.Rmd\n",
        "! wget https://raw.githubusercontent.com/areyesq89/PR2017replicaton/master/regression.Rmd\n",
        "\n",
        "  # Code to generate data files (not used)\n",
        "\n",
        "# ! wget https://raw.githubusercontent.com/areyesq89/PR2017replicaton/master/downloadData.R"
      ],
      "execution_count": null,
      "outputs": [
        {
          "output_type": "stream",
          "text": [
            "--2020-10-21 03:06:38--  https://raw.githubusercontent.com/areyesq89/PR2017replicaton/master/README.md\n",
            "Resolving raw.githubusercontent.com (raw.githubusercontent.com)... 151.101.0.133, 151.101.64.133, 151.101.128.133, ...\n",
            "Connecting to raw.githubusercontent.com (raw.githubusercontent.com)|151.101.0.133|:443... connected.\n",
            "HTTP request sent, awaiting response... 200 OK\n",
            "Length: 3494 (3.4K) [text/plain]\n",
            "Saving to: ‘README.md’\n",
            "\n",
            "README.md           100%[===================>]   3.41K  --.-KB/s    in 0s      \n",
            "\n",
            "2020-10-21 03:06:38 (50.4 MB/s) - ‘README.md’ saved [3494/3494]\n",
            "\n",
            "--2020-10-21 03:06:39--  https://raw.githubusercontent.com/areyesq89/PR2017replicaton/master/analysis_template.Rmd\n",
            "Resolving raw.githubusercontent.com (raw.githubusercontent.com)... 151.101.0.133, 151.101.64.133, 151.101.128.133, ...\n",
            "Connecting to raw.githubusercontent.com (raw.githubusercontent.com)|151.101.0.133|:443... connected.\n",
            "HTTP request sent, awaiting response... 200 OK\n",
            "Length: 8239 (8.0K) [text/plain]\n",
            "Saving to: ‘analysis_template.Rmd’\n",
            "\n",
            "analysis_template.R 100%[===================>]   8.05K  --.-KB/s    in 0s      \n",
            "\n",
            "2020-10-21 03:06:39 (66.8 MB/s) - ‘analysis_template.Rmd’ saved [8239/8239]\n",
            "\n",
            "--2020-10-21 03:06:39--  https://raw.githubusercontent.com/areyesq89/PR2017replicaton/master/rawPharmacoData.csv\n",
            "Resolving raw.githubusercontent.com (raw.githubusercontent.com)... 151.101.0.133, 151.101.64.133, 151.101.128.133, ...\n",
            "Connecting to raw.githubusercontent.com (raw.githubusercontent.com)|151.101.0.133|:443... connected.\n",
            "HTTP request sent, awaiting response... 200 OK\n",
            "Length: 1969232 (1.9M) [text/plain]\n",
            "Saving to: ‘rawPharmacoData.csv’\n",
            "\n",
            "rawPharmacoData.csv 100%[===================>]   1.88M  --.-KB/s    in 0.08s   \n",
            "\n",
            "2020-10-21 03:06:39 (23.8 MB/s) - ‘rawPharmacoData.csv’ saved [1969232/1969232]\n",
            "\n",
            "--2020-10-21 03:06:39--  https://raw.githubusercontent.com/areyesq89/PR2017replicaton/master/summarizedPharmacoData.csv\n",
            "Resolving raw.githubusercontent.com (raw.githubusercontent.com)... 151.101.0.133, 151.101.64.133, 151.101.128.133, ...\n",
            "Connecting to raw.githubusercontent.com (raw.githubusercontent.com)|151.101.0.133|:443... connected.\n",
            "HTTP request sent, awaiting response... 200 OK\n",
            "Length: 151326 (148K) [text/plain]\n",
            "Saving to: ‘summarizedPharmacoData.csv’\n",
            "\n",
            "summarizedPharmacoD 100%[===================>] 147.78K  --.-KB/s    in 0.03s   \n",
            "\n",
            "2020-10-21 03:06:40 (4.16 MB/s) - ‘summarizedPharmacoData.csv’ saved [151326/151326]\n",
            "\n",
            "--2020-10-21 03:06:40--  https://raw.githubusercontent.com/areyesq89/PR2017replicaton/master/R_basics.Rmd\n",
            "Resolving raw.githubusercontent.com (raw.githubusercontent.com)... 151.101.0.133, 151.101.64.133, 151.101.128.133, ...\n",
            "Connecting to raw.githubusercontent.com (raw.githubusercontent.com)|151.101.0.133|:443... connected.\n",
            "HTTP request sent, awaiting response... 200 OK\n",
            "Length: 14220 (14K) [text/plain]\n",
            "Saving to: ‘R_basics.Rmd’\n",
            "\n",
            "R_basics.Rmd        100%[===================>]  13.89K  --.-KB/s    in 0.01s   \n",
            "\n",
            "2020-10-21 03:06:40 (1.33 MB/s) - ‘R_basics.Rmd’ saved [14220/14220]\n",
            "\n",
            "--2020-10-21 03:06:40--  https://raw.githubusercontent.com/areyesq89/PR2017replicaton/master/exploration.Rmd\n",
            "Resolving raw.githubusercontent.com (raw.githubusercontent.com)... 151.101.0.133, 151.101.64.133, 151.101.128.133, ...\n",
            "Connecting to raw.githubusercontent.com (raw.githubusercontent.com)|151.101.0.133|:443... connected.\n",
            "HTTP request sent, awaiting response... 200 OK\n",
            "Length: 3128 (3.1K) [text/plain]\n",
            "Saving to: ‘exploration.Rmd’\n",
            "\n",
            "exploration.Rmd     100%[===================>]   3.05K  --.-KB/s    in 0s      \n",
            "\n",
            "2020-10-21 03:06:40 (45.0 MB/s) - ‘exploration.Rmd’ saved [3128/3128]\n",
            "\n",
            "--2020-10-21 03:06:40--  https://raw.githubusercontent.com/areyesq89/PR2017replicaton/master/pharmaco_correlation.Rmd\n",
            "Resolving raw.githubusercontent.com (raw.githubusercontent.com)... 151.101.0.133, 151.101.64.133, 151.101.128.133, ...\n",
            "Connecting to raw.githubusercontent.com (raw.githubusercontent.com)|151.101.0.133|:443... connected.\n",
            "HTTP request sent, awaiting response... 200 OK\n",
            "Length: 12929 (13K) [text/plain]\n",
            "Saving to: ‘pharmaco_correlation.Rmd’\n",
            "\n",
            "pharmaco_correlatio 100%[===================>]  12.63K  --.-KB/s    in 0s      \n",
            "\n",
            "2020-10-21 03:06:40 (82.9 MB/s) - ‘pharmaco_correlation.Rmd’ saved [12929/12929]\n",
            "\n",
            "--2020-10-21 03:06:40--  https://raw.githubusercontent.com/areyesq89/PR2017replicaton/master/targeted_therapies.Rmd\n",
            "Resolving raw.githubusercontent.com (raw.githubusercontent.com)... 151.101.0.133, 151.101.64.133, 151.101.128.133, ...\n",
            "Connecting to raw.githubusercontent.com (raw.githubusercontent.com)|151.101.0.133|:443... connected.\n",
            "HTTP request sent, awaiting response... 200 OK\n",
            "Length: 14952 (15K) [text/plain]\n",
            "Saving to: ‘targeted_therapies.Rmd’\n",
            "\n",
            "targeted_therapies. 100%[===================>]  14.60K  --.-KB/s    in 0.01s   \n",
            "\n",
            "2020-10-21 03:06:41 (1.38 MB/s) - ‘targeted_therapies.Rmd’ saved [14952/14952]\n",
            "\n",
            "--2020-10-21 03:06:41--  https://raw.githubusercontent.com/areyesq89/PR2017replicaton/master/regression.Rmd\n",
            "Resolving raw.githubusercontent.com (raw.githubusercontent.com)... 151.101.0.133, 151.101.64.133, 151.101.128.133, ...\n",
            "Connecting to raw.githubusercontent.com (raw.githubusercontent.com)|151.101.0.133|:443... connected.\n",
            "HTTP request sent, awaiting response... 200 OK\n",
            "Length: 10941 (11K) [text/plain]\n",
            "Saving to: ‘regression.Rmd’\n",
            "\n",
            "regression.Rmd      100%[===================>]  10.68K  --.-KB/s    in 0.001s  \n",
            "\n",
            "2020-10-21 03:06:41 (15.1 MB/s) - ‘regression.Rmd’ saved [10941/10941]\n",
            "\n"
          ],
          "name": "stdout"
        }
      ]
    },
    {
      "cell_type": "code",
      "metadata": {
        "id": "EhSk9_XhIP2f",
        "outputId": "4edc8c9c-18c4-497e-fe40-9016b2f44564",
        "colab": {
          "base_uri": "https://localhost:8080/",
          "height": 105
        }
      },
      "source": [
        "# activate R magic\n",
        "%load_ext rpy2.ipython"
      ],
      "execution_count": null,
      "outputs": [
        {
          "output_type": "stream",
          "text": [
            "/usr/local/lib/python3.6/dist-packages/rpy2/robjects/pandas2ri.py:14: FutureWarning: pandas.core.index is deprecated and will be removed in a future version.  The public classes are available in the top-level namespace.\n",
            "  from pandas.core.index import Index as PandasIndex\n",
            "/usr/local/lib/python3.6/dist-packages/rpy2/robjects/pandas2ri.py:34: UserWarning: pandas >= 1.0 is not supported.\n",
            "  warnings.warn('pandas >= 1.0 is not supported.')\n"
          ],
          "name": "stderr"
        }
      ]
    },
    {
      "cell_type": "code",
      "metadata": {
        "id": "L9oQvjfeJzpz",
        "outputId": "d36d9484-6f0a-4ad2-ce9d-d6c14d8bf511",
        "colab": {
          "base_uri": "https://localhost:8080/",
          "height": 180
        }
      },
      "source": [
        "x <- 42\n",
        "print(x)"
      ],
      "execution_count": null,
      "outputs": [
        {
          "output_type": "error",
          "ename": "NameError",
          "evalue": "ignored",
          "traceback": [
            "\u001b[0;31m---------------------------------------------------------------------------\u001b[0m",
            "\u001b[0;31mNameError\u001b[0m                                 Traceback (most recent call last)",
            "\u001b[0;32m<ipython-input-4-75c80dfb6ee5>\u001b[0m in \u001b[0;36m<module>\u001b[0;34m()\u001b[0m\n\u001b[0;32m----> 1\u001b[0;31m \u001b[0mx\u001b[0m \u001b[0;34m<\u001b[0m\u001b[0;34m-\u001b[0m \u001b[0;36m42\u001b[0m\u001b[0;34m\u001b[0m\u001b[0;34m\u001b[0m\u001b[0m\n\u001b[0m\u001b[1;32m      2\u001b[0m \u001b[0mprint\u001b[0m\u001b[0;34m(\u001b[0m\u001b[0mx\u001b[0m\u001b[0;34m)\u001b[0m\u001b[0;34m\u001b[0m\u001b[0;34m\u001b[0m\u001b[0m\n",
            "\u001b[0;31mNameError\u001b[0m: name 'x' is not defined"
          ]
        }
      ]
    },
    {
      "cell_type": "code",
      "metadata": {
        "id": "IsOylbfhJurB",
        "outputId": "9a91e9a8-621b-47a3-da2e-6d32224a1494",
        "colab": {
          "base_uri": "https://localhost:8080/",
          "height": 34
        }
      },
      "source": [
        "%%R\n",
        "x <- 42\n",
        "print(x)"
      ],
      "execution_count": null,
      "outputs": [
        {
          "output_type": "stream",
          "text": [
            "[1] 42\n"
          ],
          "name": "stdout"
        }
      ]
    },
    {
      "cell_type": "markdown",
      "metadata": {
        "id": "gZdEPJy_lxdy"
      },
      "source": [
        "## Tutorial 1: exploration.Rmd"
      ]
    },
    {
      "cell_type": "code",
      "metadata": {
        "id": "NgEiDYw8or9v",
        "outputId": "925b2b60-80f3-4f0b-bec8-cbf9fd0f4c93",
        "colab": {
          "base_uri": "https://localhost:8080/",
          "height": 163
        }
      },
      "source": [
        "hello\n"
      ],
      "execution_count": null,
      "outputs": [
        {
          "output_type": "error",
          "ename": "NameError",
          "evalue": "ignored",
          "traceback": [
            "\u001b[0;31m---------------------------------------------------------------------------\u001b[0m",
            "\u001b[0;31mNameError\u001b[0m                                 Traceback (most recent call last)",
            "\u001b[0;32m<ipython-input-4-f572d396fae9>\u001b[0m in \u001b[0;36m<module>\u001b[0;34m()\u001b[0m\n\u001b[0;32m----> 1\u001b[0;31m \u001b[0mhello\u001b[0m\u001b[0;34m\u001b[0m\u001b[0;34m\u001b[0m\u001b[0m\n\u001b[0m",
            "\u001b[0;31mNameError\u001b[0m: name 'hello' is not defined"
          ]
        }
      ]
    },
    {
      "cell_type": "markdown",
      "metadata": {
        "id": "sXOmm_n-nGWf"
      },
      "source": [
        "## Tutorial 2: pharmaco_correlation.Rmd"
      ]
    },
    {
      "cell_type": "code",
      "metadata": {
        "id": "vk0lylm6jwgo"
      },
      "source": [
        ""
      ],
      "execution_count": null,
      "outputs": []
    },
    {
      "cell_type": "markdown",
      "metadata": {
        "id": "QAOLH4Xqoh5P"
      },
      "source": [
        "##Tutorial 3: targeted_therapies.Rmd"
      ]
    },
    {
      "cell_type": "code",
      "metadata": {
        "id": "EAQM2m_vp_xo",
        "outputId": "03349669-2c05-4720-ee5f-ef5150f158dc",
        "colab": {
          "base_uri": "https://localhost:8080/",
          "height": 34
        }
      },
      "source": [
        "%%R\n",
        "\n",
        "knitr::opts_chunk$set(echo = TRUE)"
      ],
      "execution_count": 6,
      "outputs": [
        {
          "output_type": "stream",
          "text": [
            "UsageError: Cell magic `%%R` not found.\n"
          ],
          "name": "stderr"
        }
      ]
    },
    {
      "cell_type": "code",
      "metadata": {
        "id": "i6DEeIzXFYei",
        "outputId": "1119bc01-97af-46c7-e560-eaa97947ef7d",
        "colab": {
          "base_uri": "https://localhost:8080/",
          "height": 34
        }
      },
      "source": [
        "%%R\n",
        "\n",
        "cellLinesSummary <- read.csv(\"summarizedPharmacoData.csv\", header=TRUE)\n",
        "str(cellLinesSummary)"
      ],
      "execution_count": 2,
      "outputs": [
        {
          "output_type": "stream",
          "text": [
            "UsageError: Cell magic `%%R` not found.\n"
          ],
          "name": "stderr"
        }
      ]
    },
    {
      "cell_type": "code",
      "metadata": {
        "id": "3WFqAl-vGYN3",
        "outputId": "9ee5e99b-c6aa-4a86-b988-2587302205af",
        "colab": {
          "base_uri": "https://localhost:8080/",
          "height": 34
        }
      },
      "source": [
        "%%R\n",
        "\n",
        "library(ggplot2)\n",
        "AUC_study1 <- rbeta(200, 1, 5)\n",
        "AUC_study2 <- rbeta(200, 1, 5)\n",
        "resistant <- data.frame(AUC_study1, AUC_study2)\n",
        "ggplot(resistant, aes( y=AUC_study2, x=AUC_study1) ) +\n",
        "    geom_point() + ggtitle(\"Simulated AUC of resistant cell lines\") +\n",
        "    xlim(0,1) + ylim(0,1)"
      ],
      "execution_count": 5,
      "outputs": [
        {
          "output_type": "stream",
          "text": [
            "UsageError: Cell magic `%%R` not found.\n"
          ],
          "name": "stderr"
        }
      ]
    },
    {
      "cell_type": "code",
      "metadata": {
        "id": "jbPQMyxeHjW0"
      },
      "source": [
        "%%R\n",
        "\n",
        "cor(AUC_study1, AUC_study2)"
      ],
      "execution_count": null,
      "outputs": []
    },
    {
      "cell_type": "code",
      "metadata": {
        "id": "P9hnK9JmIKID"
      },
      "source": [
        "%%R \n",
        "\n",
        "AUC_study1 <- c(rbeta(100, 1, 5), rbeta(100, 4, 2))\n",
        "AUC_study2 <- c(rbeta(100, 1, 5), rbeta(100, 4, 2))\n",
        "resistant <- data.frame(AUC_study1, AUC_study2, \n",
        "                        CellLine=c(rep(\"Resistant\", 100), rep(\"Sensitive\", 100)))\n",
        "ggplot(resistant, aes( y=AUC_study2, x=AUC_study1, colour=CellLine) ) +\n",
        "    geom_point() + ggtitle(\"Simulated AUC with half sensitive and half resistant cell lines\") +\n",
        "    xlim(0,1) + ylim(0,1)"
      ],
      "execution_count": null,
      "outputs": []
    },
    {
      "cell_type": "code",
      "metadata": {
        "id": "C_0CFZ35ITnD"
      },
      "source": [
        "%%R\n",
        "\n",
        "cor(AUC_study1, AUC_study2)"
      ],
      "execution_count": null,
      "outputs": []
    },
    {
      "cell_type": "code",
      "metadata": {
        "id": "qqY1WqXoJ8lG"
      },
      "source": [
        "%%R\n",
        "\n",
        "library(tidyr)\n",
        "library(plyr)\n",
        "library(dplyr)\n",
        "\n",
        "drugAvg <- cellLinesSummary %>% \n",
        "              group_by(cellLine) %>%\n",
        "              summarise(mean_ic50_CCLE = mean(-log10(ic50_CCLE/10^6)), \n",
        "                        mean_ic50_GDSC = mean(-log10(ic50_GDSC/10^6)),\n",
        "                        mean_auc_CCLE = mean(auc_CCLE),\n",
        "                        mean_auc_GDSC = mean(auc_GDSC))\n",
        "              \n",
        "ggplot(drugAvg, aes(x=mean_ic50_GDSC, y=mean_ic50_CCLE)) +\n",
        "    geom_point(alpha=0.6) +\n",
        "    ggtitle(\"Average IC50 value by cell line (averaged over drugs)\")"
      ],
      "execution_count": null,
      "outputs": []
    },
    {
      "cell_type": "code",
      "metadata": {
        "id": "UbennKZxJ-kN"
      },
      "source": [
        "%%R\n",
        "\n",
        "cellLinesSummary <- cellLinesSummary %>% \n",
        "              mutate(cutoff = ifelse(drug==\"paclitaxel\", 0.4, 0.1)) %>%\n",
        "              mutate(sensitivity_GDSC = factor(ifelse( auc_GDSC < cutoff, \"Resistant\", \"Sensitive\")), \n",
        "                     sensitivity_CCLE = factor(ifelse( auc_CCLE < cutoff, \"Resistant\", \"Sensitive\"))) \n",
        "              \n",
        "table(\"GDSC\"=cellLinesSummary$sensitivity_GDSC, \"CCLE\"=cellLinesSummary$sensitivity_CCLE)"
      ],
      "execution_count": null,
      "outputs": []
    },
    {
      "cell_type": "code",
      "metadata": {
        "id": "3Sv4kuttKD1m"
      },
      "source": [
        "%%R \n",
        "\n",
        "cellLinesSummary <- cellLinesSummary %>% \n",
        "              mutate(category = paste(sensitivity_GDSC, sensitivity_CCLE)) %>%\n",
        "              mutate(category = revalue(category, c(\"Resistant Resistant\" = \"Both Resistant\",\n",
        "                                                    \"Sensitive Sensitive\" = \"Both Sensitive\",\n",
        "                                                    \"Resistant Sensitive\" = \"GDSC Resistant / CCLE Sensitive\",\n",
        "                                                    \"Sensitive Resistant\" = \"GDSC Sensitive / CCLE Resistant\")))\n",
        "              \n",
        "table(cellLinesSummary$category)\n",
        "\n",
        "ggplot(aes(x=auc_GDSC, y=auc_CCLE, colour=category), data=subset(cellLinesSummary, drug==\"PLX4720\")) +\n",
        "    geom_point() + \n",
        "    xlab(\"GDSC AUC\") +\n",
        "    ylab(\"CCLE AUC\") +\n",
        "    geom_hline(aes(yintercept=cutoff), colour=\"grey\", alpha=0.75, lty=2) +\n",
        "    geom_vline(aes(xintercept=cutoff), colour=\"grey\", alpha=0.75, lty=2) +\n",
        "    ggtitle(\"Drug PLX4720\")"
      ],
      "execution_count": null,
      "outputs": []
    },
    {
      "cell_type": "code",
      "metadata": {
        "id": "UjDUMS9uLACs"
      },
      "source": [
        "%%R\n",
        "\n",
        "ggplot(aes(x=auc_GDSC, y=auc_CCLE, colour=category), data=cellLinesSummary) +\n",
        "    geom_point(cex=0.5) + \n",
        "    facet_wrap(facets=~drug) +\n",
        "    xlab(\"GDSC AUC\") +\n",
        "    ylab(\"CCLE AUC\") +\n",
        "    geom_hline(aes(yintercept=cutoff), colour=\"grey\", alpha=0.75, lty=2) +\n",
        "    geom_vline(aes(xintercept=cutoff), colour=\"grey\", alpha=0.75, lty=2) "
      ],
      "execution_count": null,
      "outputs": []
    },
    {
      "cell_type": "code",
      "metadata": {
        "id": "3CgTqjafLD9i"
      },
      "source": [
        "%%R \n",
        "\n",
        "mcc <- function (study1, study2)\n",
        "{\n",
        "  BS <- sum(study1 == \"Sensitive\" & study2 == \"Sensitive\") \n",
        "  BR <- sum(study1 == \"Resistant\" & study2 == \"Resistant\") \n",
        "  SR <- sum(study1 == \"Sensitive\" & study2 == \"Resistant\") \n",
        "  RS <- sum(study1 == \"Resistant\" & study2 == \"Sensitive\") \n",
        "  \n",
        "  if (BS+SR == 0 | BS+RS == 0 | BR+SR == 0 |  BR+RS ==0){\n",
        "    mcc <- ((BS*BR)-(SR*RS)) \n",
        "  }else{\n",
        "    mcc <- ((BS*BR)-(SR*RS)) / sqrt(exp((log(BS+SR)+log(BS+RS)+log(BR+SR)+log(BR+RS))))\n",
        "  }\n",
        "  return(mcc)\n",
        "}\n",
        "drugCorrs <- cellLinesSummary %>% \n",
        "  group_by(drug) %>% \n",
        "  summarise(matthews_corr=mcc(sensitivity_GDSC, sensitivity_CCLE))"
      ],
      "execution_count": null,
      "outputs": []
    },
    {
      "cell_type": "code",
      "metadata": {
        "id": "7vgQO2WJLL9T"
      },
      "source": [
        "%%R \n",
        "\n",
        "drugCorrs"
      ],
      "execution_count": null,
      "outputs": []
    },
    {
      "cell_type": "code",
      "metadata": {
        "id": "Qozo0eNuLPj-"
      },
      "source": [
        "%%R \n",
        "\n",
        "ggplot(data=drugCorrs, aes(x=drug, y=matthews_corr)) +\n",
        "  geom_bar(stat=\"identity\") + \n",
        "  theme(axis.text.x = element_text(angle = 45, hjust = 1)) +\n",
        "  xlab(\"Drug\")+\n",
        "  ylab(\"Matthews Correlation Coefficient\")"
      ],
      "execution_count": null,
      "outputs": []
    },
    {
      "cell_type": "markdown",
      "metadata": {
        "id": "pHw-E87lqAeS"
      },
      "source": [
        "## Tutorial 4: regression.Rmd"
      ]
    },
    {
      "cell_type": "code",
      "metadata": {
        "id": "1wyD8cCaqDF_",
        "outputId": "fdc9116f-7128-45a4-a822-f04c9c8aed10",
        "colab": {
          "base_uri": "https://localhost:8080/",
          "height": 34
        }
      },
      "source": [
        "%%R\n",
        "\n",
        "knitr::opts_chunk$set(cache=FALSE, warning=FALSE)"
      ],
      "execution_count": 4,
      "outputs": [
        {
          "output_type": "stream",
          "text": [
            "UsageError: Cell magic `%%R` not found.\n"
          ],
          "name": "stderr"
        }
      ]
    },
    {
      "cell_type": "code",
      "metadata": {
        "id": "C0Qs5RXmJAEO"
      },
      "source": [
        "%%R\n",
        "\n",
        "devtools::install_url(\"https://github.com/wilkelab/cowplot/archive/0.6.3.zip\")"
      ],
      "execution_count": null,
      "outputs": []
    },
    {
      "cell_type": "code",
      "metadata": {
        "id": "wAUX2WKQs8XV"
      },
      "source": [
        "%%R\n",
        "\n",
        "rawFile <- \"rawPharmacoData.csv\"\n",
        "summarizedFile <- \"summarizedPharmacoData.csv\"\n",
        "if(!file.exists(rawFile)){\n",
        "    source(\"downloadData.R\")\n",
        "}\n",
        "pharmacoData <- read.csv(rawFile)\n",
        "summarizedData <- read.csv(summarizedFile)"
      ],
      "execution_count": null,
      "outputs": []
    },
    {
      "cell_type": "code",
      "metadata": {
        "id": "F8iS8FGwKKc_"
      },
      "source": [
        "%%R\n",
        "\n",
        "plotResponse <- function(drugA, cellLineA, addPublishedIC50=TRUE ) {\n",
        "  pharSub <- filter( pharmacoData, drug==drugA, cellLine==cellLineA )\n",
        "  sumSub <- filter( summarizedData, drug==drugA, cellLine==cellLineA )\n",
        "  p <- ggplot( pharSub, aes( log10(concentration), viability, col=study)) +\n",
        "      geom_point(size=2.1) + geom_line(lwd=1.1) + ylim(0, 150)\n",
        "  if( addPublishedIC50 ){\n",
        "      p <- p + geom_vline( sumSub, xintercept=log10( sumSub[,\"ic50_CCLE\"] ), col=\"#d95f02\", linetype=\"longdash\") +\n",
        "          geom_vline( xintercept=log10( sumSub[,\"ic50_GDSC\"]), col=\"#1b9e77\", linetype=\"longdash\") +\n",
        "          geom_hline( yintercept=50, col=\"#00000050\", linetype=\"longdash\")\n",
        "  }\n",
        "  p <- p + scale_colour_manual( values = c(\"CCLE\" = \"#d95f02\", \"GDSC\" = \"#1b9e77\" ))\n",
        "  xlims <- xlim( range(log10(c(pharSub$concentration, sumSub$ic50_CCLE, sumSub$ic50_GDSC ) ) ) )\n",
        "  p + xlims\n",
        "}"
      ],
      "execution_count": null,
      "outputs": []
    },
    {
      "cell_type": "code",
      "metadata": {
        "id": "C8ZFNRVCtZzf",
        "outputId": "59372dfe-a5e5-49a2-c842-5dc1392f91fa",
        "colab": {
          "base_uri": "https://localhost:8080/",
          "height": 497
        }
      },
      "source": [
        "%%R\n",
        "\n",
        "plotResponse( drugA=\"17-AAG\", cellLineA=\"H4\", TRUE )"
      ],
      "execution_count": null,
      "outputs": [
        {
          "output_type": "display_data",
          "data": {
            "image/png": "[encoded data removed]"
          },
          "metadata": {
            "tags": []
          }
        }
      ]
    },
    {
      "cell_type": "code",
      "metadata": {
        "id": "VY9wSWsdJFrG",
        "outputId": "66e19abb-fe12-4bd5-c7d9-1b5df50c273b",
        "colab": {
          "base_uri": "https://localhost:8080/",
          "height": 497
        }
      },
      "source": [
        "%%R\n",
        "\n",
        "plotResponse( drugA=\"Nilotinib\", cellLineA=\"22RV1\" )"
      ],
      "execution_count": null,
      "outputs": [
        {
          "output_type": "display_data",
          "data": {
            "image/png": "[encoded data removed]"
          },
          "metadata": {
            "tags": []
          }
        }
      ]
    },
    {
      "cell_type": "code",
      "metadata": {
        "id": "NuJMOA-hJrZQ"
      },
      "source": [
        "%%R\n",
        "\n",
        "fitLogisticModel <- function(drugA, cellLineA, studyA){\n",
        "    pharSub <- filter( pharmacoData, drug==drugA, cellLine==cellLineA, study==studyA)\n",
        "    inRange <- pharSub$viability > 0 & pharSub$viability < 100\n",
        "    pharSub$viability <- round(pharSub$viability)\n",
        "    pharSub$concentration <- log10( pharSub$concentration )\n",
        "    maxVal <- pmax( pharSub$viability, 100 )\n",
        "    fit <- glm( cbind( viability, maxVal-viability ) ~ concentration,\n",
        "               pharSub, family=binomial )\n",
        "    fit\n",
        "}"
      ],
      "execution_count": null,
      "outputs": []
    },
    {
      "cell_type": "code",
      "metadata": {
        "id": "BxUUt2ApKsDr",
        "outputId": "cba687fc-d4e0-4445-cff7-cf484500c6b5",
        "colab": {
          "base_uri": "https://localhost:8080/",
          "height": 204
        }
      },
      "source": [
        "%%R\n",
        "\n",
        "lrCCLE1 <- fitLogisticModel( \"17-AAG\", \"H4\", \"CCLE\" )\n",
        "lrGDSC1 <- fitLogisticModel( \"17-AAG\", \"H4\", \"GDSC\" )\n",
        "\n",
        "lrCCLE2 <- fitLogisticModel( \"Nilotinib\", \"22RV1\", \"CCLE\" )\n",
        "lrGDSC2 <- fitLogisticModel( \"Nilotinib\", \"22RV1\", \"GDSC\" )\n",
        "\n",
        "lrCCLE1"
      ],
      "execution_count": null,
      "outputs": [
        {
          "output_type": "stream",
          "text": [
            "\n",
            "Call:  glm(formula = cbind(viability, maxVal - viability) ~ concentration, \n",
            "    family = binomial, data = pharSub)\n",
            "\n",
            "Coefficients:\n",
            "  (Intercept)  concentration  \n",
            "       -1.880         -2.317  \n",
            "\n",
            "Degrees of Freedom: 7 Total (i.e. Null);  6 Residual\n",
            "Null Deviance:\t    647.6 \n",
            "Residual Deviance: 83.29 \tAIC: 115.4\n"
          ],
          "name": "stdout"
        }
      ]
    },
    {
      "cell_type": "code",
      "metadata": {
        "id": "wP0j2rWbMNjp",
        "outputId": "add62851-b2ae-411c-f9a8-1cfe928b4556",
        "colab": {
          "base_uri": "https://localhost:8080/",
          "height": 204
        }
      },
      "source": [
        "%%R\n",
        "\n",
        "lrCCLE2"
      ],
      "execution_count": null,
      "outputs": [
        {
          "output_type": "stream",
          "text": [
            "\n",
            "Call:  glm(formula = cbind(viability, maxVal - viability) ~ concentration, \n",
            "    family = binomial, data = pharSub)\n",
            "\n",
            "Coefficients:\n",
            "  (Intercept)  concentration  \n",
            "        4.142         -2.104  \n",
            "\n",
            "Degrees of Freedom: 7 Total (i.e. Null);  6 Residual\n",
            "Null Deviance:\t    59.92 \n",
            "Residual Deviance: 25.39 \tAIC: 36.32\n"
          ],
          "name": "stdout"
        }
      ]
    },
    {
      "cell_type": "code",
      "metadata": {
        "id": "KacFNV59Mlyx"
      },
      "source": [
        "%%R\n",
        "\n",
        "predictValues <- function( fit, numPred=1000){\n",
        "    min <- min( fit$data$concentration )\n",
        "    max <- max( fit$data$concentration )\n",
        "    valuesToPredict <- seq(min, max, length.out=numPred)\n",
        "    predicted <- predict( fit,\n",
        "            data.frame(concentration=valuesToPredict),\n",
        "            type=\"response\" )\n",
        "    data.frame( concentration=valuesToPredict,\n",
        "               viability=predicted*100 )\n",
        "}\n",
        "\n",
        "plotFit <- function(p, fitCCLE, fitGDSC ){\n",
        "    p <- p + geom_line( aes( concentration, viability ),\n",
        "              data=predictValues( fitCCLE ), lwd=1.2,\n",
        "              linetype=\"dashed\", col=\"#d95f02\" )+\n",
        "    geom_line( aes( concentration, viability ),\n",
        "              data=predictValues( fitGDSC ), lwd=1.2,\n",
        "              linetype=\"dashed\", col=\"#1b9e77\")\n",
        "    p\n",
        "}\n"
      ],
      "execution_count": null,
      "outputs": []
    },
    {
      "cell_type": "code",
      "metadata": {
        "id": "xaaMAkPJMqkW",
        "outputId": "b3635849-e496-4093-8742-ef16d287cf3e",
        "colab": {
          "base_uri": "https://localhost:8080/",
          "height": 497
        }
      },
      "source": [
        "%%R\n",
        "\n",
        "plotFit( plotResponse( \"17-AAG\", \"H4\", FALSE ),\n",
        "        fitCCLE=lrCCLE1, fitGDSC=lrGDSC1 )"
      ],
      "execution_count": null,
      "outputs": [
        {
          "output_type": "display_data",
          "data": {
            "image/png": "[encoded data removed]"
          },
          "metadata": {
            "tags": []
          }
        }
      ]
    },
    {
      "cell_type": "code",
      "metadata": {
        "id": "5Tnz9eFcOi1I",
        "outputId": "f1e222d0-cc62-4629-f508-dc8199088314",
        "colab": {
          "base_uri": "https://localhost:8080/",
          "height": 548
        }
      },
      "source": [
        "%%R\n",
        "\n",
        "\n",
        "plotFit( plotResponse( \"Nilotinib\", \"22RV1\", FALSE ),\n",
        "        fitCCLE=lrCCLE2, fitGDSC=lrGDSC2 ) +\n",
        "        xlim(-2, 1.3)"
      ],
      "execution_count": null,
      "outputs": [
        {
          "output_type": "stream",
          "text": [
            "R[write to console]: Scale for 'x' is already present. Adding another scale for 'x', which will\n",
            "replace the existing scale.\n",
            "\n"
          ],
          "name": "stderr"
        },
        {
          "output_type": "display_data",
          "data": {
            "image/png": "[encoded data removed]"
          },
          "metadata": {
            "tags": []
          }
        }
      ]
    },
    {
      "cell_type": "code",
      "metadata": {
        "id": "xp0rL5lqMqhA",
        "outputId": "f87c3948-6aab-41c2-8c17-539d3ab5cd28",
        "colab": {
          "base_uri": "https://localhost:8080/",
          "height": 51
        }
      },
      "source": [
        "%%R\n",
        "\n",
        "library(magrittr)\n",
        "\n",
        "getIC50Value <- function( fit ){\n",
        "    if( !fit$converged ){\n",
        "      return( NA )\n",
        "    }\n",
        "    predictValues( fit, numPred=10000 ) %>% \n",
        "    { .$concentration[which.min( abs( .$viability - 50) )] }\n",
        "}\n",
        "\n",
        "10^getIC50Value( lrCCLE1 )\n",
        "10^getIC50Value( lrGDSC1 )\n",
        "filter( summarizedData, drug==\"17-AAG\", cellLine==\"H4\")[,c(\"ic50_CCLE\", \"ic50_GDSC\")]\n",
        "\n",
        "10^getIC50Value( lrCCLE2 )\n",
        "10^getIC50Value( lrGDSC2 )\n",
        "filter( summarizedData, drug==\"Nilotinib\", cellLine==\"22RV1\")[,c(\"ic50_CCLE\", \"ic50_GDSC\")]"
      ],
      "execution_count": null,
      "outputs": [
        {
          "output_type": "stream",
          "text": [
            "  ic50_CCLE ic50_GDSC\n",
            "1         8  155.2699\n"
          ],
          "name": "stdout"
        }
      ]
    },
    {
      "cell_type": "code",
      "metadata": {
        "id": "pZXG8TB4QHRi",
        "outputId": "2d3511a0-7a1c-488f-a9ea-f28c2aa0f8c5",
        "colab": {
          "base_uri": "https://localhost:8080/",
          "height": 51
        }
      },
      "source": [
        "%%R\n",
        "\n",
        "getAUCValue <- function( fit ){\n",
        "    numbOfPredictions <- 10000\n",
        "    if( !fit$converged ){\n",
        "      return( NA )\n",
        "    }\n",
        "    x <- 1 - ( predictValues( fit, numPred=numbOfPredictions )$viability / 100 ) ## difference between 1 and the predicted viability probability\n",
        "    x <- sum( x ) ## summing all the predicted values\n",
        "    x / numbOfPredictions ## normalize such that the total area sums to 1\n",
        "}\n",
        "\n",
        "getAUCValue( lrCCLE1 )\n",
        "getAUCValue( lrGDSC1 )\n",
        "filter( summarizedData, drug==\"17-AAG\", cellLine==\"H4\")\n",
        "\n",
        "getAUCValue( lrCCLE2 )\n",
        "getAUCValue( lrGDSC2 )\n",
        "filter( summarizedData, drug==\"Nilotinib\", cellLine==\"22RV1\")\n"
      ],
      "execution_count": null,
      "outputs": [
        {
          "output_type": "stream",
          "text": [
            "  cellLine      drug ic50_CCLE auc_CCLE ic50_GDSC auc_GDSC\n",
            "1    22RV1 Nilotinib         8        0  155.2699 0.003935\n"
          ],
          "name": "stdout"
        }
      ]
    },
    {
      "cell_type": "code",
      "metadata": {
        "id": "Hps8TXaFQgE3"
      },
      "source": [
        "%%R\n",
        "\n",
        "mySummarizedData <- suppressWarnings( lapply( seq_len( nrow( summarizedData )), function(x){\n",
        "  drug <- as.character( summarizedData$drug[x] )\n",
        "  cellLine <- as.character( summarizedData$cellLine[x] )\n",
        "  fitCCLE <- try( fitLogisticModel( drug, cellLine, \"CCLE\" ), silent=TRUE)\n",
        "  fitGDSC <- try( fitLogisticModel( drug, cellLine, \"GDSC\" ), silent=TRUE)\n",
        "  if( inherits(fitCCLE, \"try-error\") ){\n",
        "    ic50CCLE <- NA\n",
        "    aucCCLE <- NA\n",
        "  }else{\n",
        "    ic50CCLE <- 10^getIC50Value( fitCCLE )\n",
        "    aucCCLE <- getAUCValue( fitCCLE )\n",
        "  }\n",
        "  if( inherits(fitGDSC, \"try-error\") ){\n",
        "    ic50GDSC <- NA\n",
        "    aucGDSC <- NA\n",
        "  }else{\n",
        "    ic50GDSC <- 10^getIC50Value( fitGDSC )\n",
        "    aucGDSC <- getAUCValue( fitGDSC )\n",
        "  }\n",
        "  data.frame( drug=drug, \n",
        "     cellLine=cellLine, \n",
        "     ic50_CCLE=ic50CCLE, \n",
        "     auc_CCLE=aucCCLE,\n",
        "     ic50_GDSC=ic50GDSC,\n",
        "     auc_GDSC=aucGDSC )\n",
        "} ) )\n",
        "\n",
        "mySummarizedData <- do.call( rbind, mySummarizedData )"
      ],
      "execution_count": null,
      "outputs": []
    },
    {
      "cell_type": "code",
      "metadata": {
        "id": "Im961-yZQ2tc",
        "outputId": "7e9939a6-316f-4c52-8091-0776d492ab5d",
        "colab": {
          "base_uri": "https://localhost:8080/",
          "height": 497
        }
      },
      "source": [
        "%%R\n",
        "\n",
        "allSummarizedData <- merge( x=summarizedData, y=mySummarizedData, by=c(\"drug\", \"cellLine\"))\n",
        "\n",
        "ggplot( \n",
        "  filter( allSummarizedData, drug==\"17-AAG\"), aes( -log10(ic50_GDSC.y), -log10( ic50_CCLE.y) ) ) +\n",
        "  geom_point()\n",
        "\n",
        "ggplot( \n",
        "  filter( allSummarizedData, drug==\"17-AAG\"), aes( auc_GDSC.y, auc_CCLE.y ) ) +\n",
        "  geom_point()"
      ],
      "execution_count": null,
      "outputs": [
        {
          "output_type": "display_data",
          "data": {
            "image/png": "[encoded data removed]"
          },
          "metadata": {
            "tags": []
          }
        }
      ]
    },
    {
      "cell_type": "code",
      "metadata": {
        "id": "IwlXCGtuRTT0"
      },
      "source": [
        "%%R\n",
        "\n",
        "fitLinearModel <- function(drugA, cellLineA, studyA){\n",
        "    pharSub <- filter( pharmacoData, drug==drugA, cellLine==cellLineA, study==studyA)\n",
        "    pharSub$concentration <- log10( pharSub$concentration )\n",
        "    fit <- lm( viability~ concentration, pharSub )\n",
        "    fit\n",
        "}"
      ],
      "execution_count": null,
      "outputs": []
    },
    {
      "cell_type": "code",
      "metadata": {
        "id": "5GxGlIiTSCwH",
        "outputId": "98bd6bb2-3338-4817-f191-998deef3cf74",
        "colab": {
          "base_uri": "https://localhost:8080/",
          "height": 51
        }
      },
      "source": [
        "%%R\n",
        "\n",
        "linearModelCCLE1 <- fitLinearModel( \"17-AAG\", \"H4\", \"CCLE\" )\n",
        "slope1 <- coefficients( linearModelCCLE1 )[\"concentration\"]\n",
        "linearModelGDSC1 <- fitLinearModel( \"17-AAG\", \"H4\", \"GDSC\" )\n",
        "slope2 <- coefficients( linearModelGDSC1 )[\"concentration\"]\n",
        "\n",
        "linearModelCCLE2 <- fitLinearModel( \"Nilotinib\", \"22RV1\", \"CCLE\" )\n",
        "coefficients( linearModelCCLE2 )[\"concentration\"]\n"
      ],
      "execution_count": null,
      "outputs": [
        {
          "output_type": "stream",
          "text": [
            "concentration \n",
            "    -1.430474 \n"
          ],
          "name": "stdout"
        }
      ]
    },
    {
      "cell_type": "code",
      "metadata": {
        "id": "EsVleN6BUQgd",
        "outputId": "695ff27b-12b2-40e7-ae4b-890395c7d188",
        "colab": {
          "base_uri": "https://localhost:8080/",
          "height": 51
        }
      },
      "source": [
        "%%R\n",
        "\n",
        "linearModelGDSC2 <- fitLinearModel( \"Nilotinib\", \"22RV1\", \"GDSC\" )\n",
        "coefficients( linearModelGDSC2 )[\"concentration\"]"
      ],
      "execution_count": null,
      "outputs": [
        {
          "output_type": "stream",
          "text": [
            "concentration \n",
            "    0.4806636 \n"
          ],
          "name": "stdout"
        }
      ]
    }
  ]
}